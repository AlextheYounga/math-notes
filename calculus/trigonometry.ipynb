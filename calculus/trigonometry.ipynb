{
 "cells": [
  {
   "cell_type": "code",
   "execution_count": 3,
   "metadata": {},
   "outputs": [
    {
     "name": "stdout",
     "output_type": "stream",
     "text": [
      "The angle of inclination is: 53.13 degrees\n"
     ]
    }
   ],
   "source": [
    "import math\n",
    "\n",
    "# Hypotenuse is the longest side of a right triangle\n",
    "\n",
    "# SOH-CAH-TOA\n",
    "# Sine = Opposite ÷ Hypotenuse\n",
    "# Cosine = Adjacent ÷ Hypotenuse\n",
    "# Tangent = Opposite ÷ Adjacent\n",
    "\n",
    "# Tangent is also the same as \"slope\", i.e. rise over run\n",
    "# slope = tan (angle)\n",
    "\n",
    "\n",
    "\n",
    "# Angle Inclination\n",
    "# To find the trigonometric angle of inclination (also known as the angle of elevation or angle of depression), \n",
    "# we need to know the ratio of the vertical side to the horizontal side of a right triangle. \n",
    "def angle_of_inclination(opposite, adjacent):\n",
    "    # Calculate the angle of inclination in radians using the arctangent function\n",
    "    angle_radians = math.atan(opposite / adjacent)\n",
    "    \n",
    "    # Convert the angle from radians to degrees\n",
    "    angle_degrees = math.degrees(angle_radians)\n",
    "    \n",
    "    return angle_degrees\n",
    "\n",
    "# Test the function\n",
    "opposite_side = 4\n",
    "adjacent_side = 3\n",
    "angle = angle_of_inclination(opposite_side, adjacent_side)\n",
    "\n",
    "print(f\"The angle of inclination is: {angle:.2f} degrees\")\n",
    "\n",
    "\n",
    "\n"
   ]
  },
  {
   "cell_type": "code",
   "execution_count": 6,
   "metadata": {},
   "outputs": [
    {
     "name": "stdout",
     "output_type": "stream",
     "text": [
      "8.06225774829855\n"
     ]
    }
   ],
   "source": [
    "import math\n",
    "# Distance Formula\n",
    "# Calculating distance of two points using the Pythagorium theorem. \n",
    "# The classic formula is a^2 + b^2 = c^2 but you can also say a \"leg-squared + leg-squared = hypotenuse\".\n",
    "\n",
    "point1 = (1,3)\n",
    "point2 = (5,10)\n",
    "\n",
    "def calculate_distance(point1, point2):\n",
    "    x1, y1 = point1\n",
    "    x2, y2 = point2\n",
    "\n",
    "    return math.sqrt((x2-x1)**2 + (y2-y1)**2)\n",
    "\n",
    "print(calculate_distance(point1, point2))\n",
    "\n"
   ]
  }
 ],
 "metadata": {
  "kernelspec": {
   "display_name": "Python 3",
   "language": "python",
   "name": "python3"
  },
  "language_info": {
   "codemirror_mode": {
    "name": "ipython",
    "version": 3
   },
   "file_extension": ".py",
   "mimetype": "text/x-python",
   "name": "python",
   "nbconvert_exporter": "python",
   "pygments_lexer": "ipython3",
   "version": "3.10.6"
  },
  "orig_nbformat": 4
 },
 "nbformat": 4,
 "nbformat_minor": 2
}
