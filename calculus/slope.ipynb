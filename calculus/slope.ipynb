{
 "cells": [
  {
   "cell_type": "code",
   "execution_count": 1,
   "metadata": {},
   "outputs": [
    {
     "name": "stdout",
     "output_type": "stream",
     "text": [
      "1.75\n"
     ]
    }
   ],
   "source": [
    "# Slope\n",
    "\n",
    "def calculate_slope(point1: tuple, point2: tuple) -> float:\n",
    "    x1, y1 = point1\n",
    "    x2, y2 = point2\n",
    "\n",
    "    # Slope equals the rise over the run.\n",
    "    # These parenthases are important!!!\n",
    "    slope = (y2 - y1) / (x2 - x1)\n",
    "    return slope\n",
    "\n",
    "\n",
    "slope = calculate_slope((1, 3), (5, 10))\n",
    "print(slope)"
   ]
  },
  {
   "cell_type": "code",
   "execution_count": 5,
   "metadata": {},
   "outputs": [
    {
     "name": "stdout",
     "output_type": "stream",
     "text": [
      "Line Coordinates: (1, 3), (5,10.0)\n",
      "Parallel Line Coordinates: (-2, 8), (4,18.5)\n",
      "Perpendicular Slope: -0.5714285714285714\n",
      "Perpendicular Coordinates: (1, 3), (-12, 10.428571428571427)\n"
     ]
    }
   ],
   "source": [
    "# Point Slope\n",
    "# You can get the y value for any x on this line if you have one point and the slope.\n",
    "# If you've already found the slope, it doesn't necessarily matter what point you use.\n",
    "# The difference here is that our function is actually going to return another function, our line function.\n",
    "# We can return that function to then calculate any other point on the line.\n",
    "\n",
    "# Official point slope formula\n",
    "# y-y1=m(x-x1)\n",
    "# y \t=\ty coordinate of second point\n",
    "# y1\t=\ty coordinate of point one\n",
    "# m\t    =\tslope\n",
    "# x\t    =\tx coordinate of second point\n",
    "# x1\t=\tx coordinate of point one\n",
    "\n",
    "from typing import Callable\n",
    "import numpy as np\n",
    "\n",
    "\n",
    "def find_line_equation_using_point_slope(point: tuple, slope: float) -> Callable:\n",
    "    x1, y1 = point\n",
    "\n",
    "    def line(x: float):\n",
    "        return slope * (x - x1) + y1\n",
    "\n",
    "    return line\n",
    "\n",
    "\n",
    "slope = 1.75\n",
    "x1 = 1\n",
    "y1 = 3\n",
    "line_equation = find_line_equation_using_point_slope((x1, y1), slope)\n",
    "\n",
    "# Now you can get the y value for any x on this line\n",
    "# Another x point on the line\n",
    "x2 = 5\n",
    "y2 = line_equation(x2)\n",
    "print(f\"Line Coordinates: ({x1}, {y1}), ({x2},{y2})\")\n",
    "# -----------------\n",
    "\n",
    "\n",
    "# Parallel Slope\n",
    "# Now that we have the point slope formula, we can plug in another point into our point slope function and find parallel lines\n",
    "\n",
    "slope = 1.75\n",
    "x1_parallel = -2\n",
    "y1_parallel = 8\n",
    "\n",
    "parallel_line_equation = find_line_equation_using_point_slope((x1_parallel, y1_parallel), slope)\n",
    "\n",
    "x2_parallel = 4\n",
    "y2_parallel = parallel_line_equation(x2_parallel)\n",
    "print(f\"Parallel Line Coordinates: ({x1_parallel}, {y1_parallel}), ({x2_parallel},{y2_parallel})\")\n",
    "#------------------\n",
    "\n",
    "\n",
    "# Perpendicular Slope\n",
    "# The perpendicular slope is always the \"negative reciprocal\" of the slope of the first line. \n",
    "# You can find the negative reciprocal very easily via -(1/n).\n",
    "# If our first slope is 1.75, our negative reciprocal slope must be 0.5714285714285714\n",
    "# The rest of the process remains the same. The only difference with perpendicular lines is the slope.\n",
    "\n",
    "slope = 1.75\n",
    "perpendicular_slope = -(1.0/slope)\n",
    "print(f\"Perpendicular Slope: {perpendicular_slope}\")\n",
    "\n",
    "x1_perpendicular = 1\n",
    "y1_perpendicular = 3\n",
    "perpendicular_line_equation = find_line_equation_using_point_slope((x1_perpendicular, y1_perpendicular), perpendicular_slope)\n",
    "\n",
    "x2_perpendicular = -12\n",
    "y2_perpendicular = perpendicular_line_equation(x2_perpendicular)\n",
    "print(f\"Perpendicular Coordinates: ({x1_perpendicular}, {y1_perpendicular}), ({x2_perpendicular}, {y2_perpendicular})\")\n"
   ]
  }
 ],
 "metadata": {
  "kernelspec": {
   "display_name": "venv",
   "language": "python",
   "name": "python3"
  },
  "language_info": {
   "codemirror_mode": {
    "name": "ipython",
    "version": 3
   },
   "file_extension": ".py",
   "mimetype": "text/x-python",
   "name": "python",
   "nbconvert_exporter": "python",
   "pygments_lexer": "ipython3",
   "version": "3.10.6"
  },
  "orig_nbformat": 4
 },
 "nbformat": 4,
 "nbformat_minor": 2
}
