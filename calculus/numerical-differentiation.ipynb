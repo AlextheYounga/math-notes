{
 "cells": [
  {
   "cell_type": "markdown",
   "metadata": {},
   "source": [
    "### Understanding the Value of \\( h = 1e-5 \\)\n",
    "\n",
    "The value \\( h = 1e-5 \\) (which is \\( 0.00001 \\)) is a small number used in numerical differentiation to approximate the derivative of a function. This small value is crucial because it represents a tiny change in the input variable, allowing us to approximate the slope of the function at a particular point.\n",
    "\n",
    "#### Significance of \\( h \\)\n",
    "1. **Approximation of the Derivative:**\n",
    "    The derivative of a function at a point \\( t \\) is defined mathematically as:\n",
    "    \\[\n",
    "    f'(t) = \\lim_{h \\to 0} \\frac{f(t + h) - f(t - h)}{2h}\n",
    "    \\]\n",
    "    Here, \\( h \\) is supposed to be infinitesimally small. In practical computations, we can't use an infinitely small number, so we use a very small number like \\( h = 1e-5 \\) to get a close approximation.\n",
    "\n",
    "2. **Balancing Accuracy and Computational Stability:**\n",
    "    - **Too Large \\( h \\):** If \\( h \\) is too large, the approximation of the derivative becomes inaccurate because it fails to capture the local behavior of the function.\n",
    "    - **Too Small \\( h \\):** If \\( h \\) is too small, it can lead to numerical instability due to the limitations of floating-point arithmetic in computers. This can cause round-off errors to become significant.\n"
   ]
  },
  {
   "cell_type": "code",
   "execution_count": 1,
   "metadata": {},
   "outputs": [
    {
     "name": "stdout",
     "output_type": "stream",
     "text": [
      "Approximate Derivative at x=2: 4.000000000026205\n",
      "Exact Derivative at x=2: 4\n"
     ]
    }
   ],
   "source": [
    "# Example of Numerical Derivative\n",
    "# Let’s see an example to clarify the role of \\( h \\).\n",
    "\n",
    "# Consider a simple function:\n",
    "def simple_function(x):\n",
    "    return x**2\n",
    "\n",
    "\n",
    "# The exact derivative of \\( x^2 \\) is \\( 2x \\). \n",
    "# We can approximate this using our numerical derivative function with \\( h = 1e-5 \\).\n",
    "def numerical_derivative(func, x, h=1e-5):\n",
    "    return (func(x + h) - func(x - h)) / (2 * h)\n",
    "\n",
    "# Testing at x = 2\n",
    "x_value = 2\n",
    "approx_derivative = numerical_derivative(simple_function, x_value)\n",
    "exact_derivative = 2 * x_value\n",
    "\n",
    "print(f\"Approximate Derivative at x={x_value}: {approx_derivative}\")\n",
    "print(f\"Exact Derivative at x={x_value}: {exact_derivative}\")\n"
   ]
  },
  {
   "cell_type": "markdown",
   "metadata": {},
   "source": [
    "\n",
    "As you can see, the approximate derivative is very close to the exact derivative. The small value of \\( h \\) helps us achieve this accuracy.\n",
    "\n",
    "### Key Takeaways\n",
    "- **Small \\( h \\):** A small value like \\( 1e-5 \\) is used to closely approximate the derivative without being too small to cause numerical instability.\n",
    "- **Accuracy:** The choice of \\( h \\) balances the need for accuracy and computational stability.\n",
    "- **Numerical Differentiation:** By using a small \\( h \\), we can effectively approximate derivatives in a way that is practical for computer calculations."
   ]
  },
  {
   "cell_type": "code",
   "execution_count": 2,
   "metadata": {},
   "outputs": [],
   "source": [
    "# Practice\n"
   ]
  }
 ],
 "metadata": {
  "kernelspec": {
   "display_name": "math-notes",
   "language": "python",
   "name": "python3"
  },
  "language_info": {
   "codemirror_mode": {
    "name": "ipython",
    "version": 3
   },
   "file_extension": ".py",
   "mimetype": "text/x-python",
   "name": "python",
   "nbconvert_exporter": "python",
   "pygments_lexer": "ipython3",
   "version": "3.10.10"
  }
 },
 "nbformat": 4,
 "nbformat_minor": 2
}
