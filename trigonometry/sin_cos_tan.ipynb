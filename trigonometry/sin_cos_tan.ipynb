{
 "cells": [
  {
   "cell_type": "code",
   "execution_count": null,
   "metadata": {},
   "outputs": [],
   "source": [
    "import math\n",
    "\n",
    "\"\"\"\n",
    "Hypotenuse is the longest side of a right triangle\n",
    "\n",
    "SOH-CAH-TOA\n",
    "Sine = Opposite ÷ Hypotenuse\n",
    "Cosine = Adjacent ÷ Hypotenuse\n",
    "Tangent = Opposite ÷ Adjacent\n",
    "\n",
    "Tangent is also the same as \"slope\", i.e. rise over run\n",
    "slope = tan (angle)\n",
    "\n",
    "Python's trigonometric functions use radians, not degrees.\n",
    "\n",
    "Radians often make mathematical calculations easier and more natural, particularly in calculus and trigonometry. \n",
    "When dealing with derivatives and integrals of trigonometric functions, radians lead to simpler and more elegant formulas.\n",
    "\n",
    "For instance, in physics, angular velocity and acceleration are most naturally expressed in radians per unit time.\n",
    "\"\"\"\n",
    "\n",
    "\n",
    "angle_degrees = 30\n",
    "angle_radians = math.radians(angle_degrees)\n",
    "sin_value = math.sin(angle_radians)\n",
    "print(f\"Sine of {angle_degrees} degrees is: {sin_value}\")\n",
    "\n",
    "\n",
    "angle_degrees = 45\n",
    "angle_radians = math.radians(angle_degrees)\n",
    "cos_value = math.cos(angle_radians)\n",
    "print(f\"Cosine of {angle_degrees} degrees is: {cos_value}\")\n",
    "\n",
    "\n",
    "angle_degrees = 60\n",
    "angle_radians = math.radians(angle_degrees)\n",
    "tan_value = math.tan(angle_radians)\n",
    "print(f\"Tangent of {angle_degrees} degrees is: {tan_value}\")"
   ]
  }
 ],
 "metadata": {
  "language_info": {
   "name": "python"
  }
 },
 "nbformat": 4,
 "nbformat_minor": 2
}
