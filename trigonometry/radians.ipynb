{
 "cells": [
  {
   "cell_type": "code",
   "execution_count": 2,
   "metadata": {},
   "outputs": [
    {
     "name": "stdout",
     "output_type": "stream",
     "text": [
      "3.141592653589793\n",
      "180.0\n"
     ]
    }
   ],
   "source": [
    "import math\n",
    "\n",
    "# Convert degrees to radians\n",
    "def degrees_to_radians(degrees):\n",
    "    return degrees * math.pi/180\n",
    "\n",
    "def radians_to_degrees(radians):\n",
    "    return radians * 180/math.pi\n",
    "\n",
    "degrees = 180\n",
    "radians = degrees_to_radians(180)\n",
    "print(radians)\n",
    "\n",
    "radians = 3.141592653589793\n",
    "degrees = radians_to_degrees(radians)\n",
    "print(degrees)"
   ]
  }
 ],
 "metadata": {
  "kernelspec": {
   "display_name": "math-notes",
   "language": "python",
   "name": "python3"
  },
  "language_info": {
   "codemirror_mode": {
    "name": "ipython",
    "version": 3
   },
   "file_extension": ".py",
   "mimetype": "text/x-python",
   "name": "python",
   "nbconvert_exporter": "python",
   "pygments_lexer": "ipython3",
   "version": "3.10.10"
  },
  "orig_nbformat": 4
 },
 "nbformat": 4,
 "nbformat_minor": 2
}
